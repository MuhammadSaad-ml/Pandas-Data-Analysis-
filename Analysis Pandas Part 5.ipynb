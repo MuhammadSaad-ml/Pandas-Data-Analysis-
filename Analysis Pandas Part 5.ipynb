{
 "cells": [
  {
   "cell_type": "markdown",
   "metadata": {},
   "source": [
    "## Creating Another Column From Age"
   ]
  },
  {
   "cell_type": "code",
   "execution_count": 3,
   "metadata": {},
   "outputs": [
    {
     "name": "stdout",
     "output_type": "stream",
     "text": [
      "   survived  pclass     sex   age  sibsp  parch     fare embarked  class  \\\n",
      "0         0       3    male  22.0      1      0   7.2500        S  Third   \n",
      "1         1       1  female  38.0      1      0  71.2833        C  First   \n",
      "2         1       3  female  26.0      0      0   7.9250        S  Third   \n",
      "3         1       1  female  35.0      1      0  53.1000        S  First   \n",
      "\n",
      "     who  adult_male deck  embark_town alive  alone  grow  \n",
      "0    man        True  NaN  Southampton    no  False  22.0  \n",
      "1  woman       False    C    Cherbourg   yes  False  38.0  \n",
      "2  woman       False  NaN  Southampton   yes   True  26.0  \n",
      "3  woman       False    C  Southampton   yes  False  35.0  \n"
     ]
    }
   ],
   "source": [
    "data_frame['grow']=data_frame['age']\n",
    "print(data_frame.head(4))"
   ]
  },
  {
   "cell_type": "markdown",
   "metadata": {},
   "source": [
    "## Dropping Columns Within Same Dataset"
   ]
  },
  {
   "cell_type": "code",
   "execution_count": 4,
   "metadata": {},
   "outputs": [
    {
     "name": "stdout",
     "output_type": "stream",
     "text": [
      "   survived  pclass   age  sibsp  parch     fare embarked  class    who  \\\n",
      "0         0       3  22.0      1      0   7.2500        S  Third    man   \n",
      "1         1       1  38.0      1      0  71.2833        C  First  woman   \n",
      "2         1       3  26.0      0      0   7.9250        S  Third  woman   \n",
      "3         1       1  35.0      1      0  53.1000        S  First  woman   \n",
      "\n",
      "   adult_male deck  embark_town alive  alone  grow  \n",
      "0        True  NaN  Southampton    no  False  22.0  \n",
      "1       False    C    Cherbourg   yes  False  38.0  \n",
      "2       False  NaN  Southampton   yes   True  26.0  \n",
      "3       False    C  Southampton   yes  False  35.0  \n"
     ]
    }
   ],
   "source": [
    "delete=data_frame.drop(columns=['sex'],inplace=False)\n",
    "print(delete.head(4))"
   ]
  },
  {
   "cell_type": "code",
   "execution_count": 5,
   "metadata": {},
   "outputs": [
    {
     "data": {
      "text/plain": [
       "Index(['survived', 'pclass', 'age', 'sibsp', 'parch', 'fare', 'embarked',\n",
       "       'class', 'who', 'adult_male', 'deck', 'embark_town', 'alive', 'alone',\n",
       "       'grow'],\n",
       "      dtype='object')"
      ]
     },
     "execution_count": 5,
     "metadata": {},
     "output_type": "execute_result"
    }
   ],
   "source": [
    "delete.columns"
   ]
  },
  {
   "cell_type": "markdown",
   "metadata": {},
   "source": [
    "## Displaying 2 Columns"
   ]
  },
  {
   "cell_type": "code",
   "execution_count": 7,
   "metadata": {},
   "outputs": [
    {
     "name": "stdout",
     "output_type": "stream",
     "text": [
      "   survived  grow\n",
      "0         0  22.0\n",
      "1         1  38.0\n",
      "2         1  26.0\n",
      "3         1  35.0\n",
      "4         0  35.0\n",
      "5         0   NaN\n",
      "6         0  54.0\n",
      "7         0   2.0\n",
      "8         1  27.0\n",
      "9         1  14.0\n"
     ]
    }
   ],
   "source": [
    "select=data_frame[['survived','grow']]\n",
    "print(select.head(10))"
   ]
  }
 ],
 "metadata": {
  "kernelspec": {
   "display_name": "Pandas",
   "language": "python",
   "name": "python3"
  },
  "language_info": {
   "codemirror_mode": {
    "name": "ipython",
    "version": 3
   },
   "file_extension": ".py",
   "mimetype": "text/x-python",
   "name": "python",
   "nbconvert_exporter": "python",
   "pygments_lexer": "ipython3",
   "version": "3.10.13"
  }
 },
 "nbformat": 4,
 "nbformat_minor": 2
}
